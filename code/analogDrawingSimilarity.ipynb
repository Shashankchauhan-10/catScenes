{
 "cells": [
  {
   "cell_type": "code",
   "execution_count": 1,
   "metadata": {},
   "outputs": [],
   "source": [
    "import pandas as pd\n",
    "import numpy as np\n",
    "from sklearn.metrics.pairwise import cosine_similarity\n",
    "import scipy.stats as stats\n",
    "from scipy.spatial.distance import squareform\n",
    "import matplotlib.pyplot as plt\n",
    "import os"
   ]
  },
  {
   "cell_type": "code",
   "execution_count": 2,
   "metadata": {},
   "outputs": [],
   "source": [
    "# Set paths\n",
    "baseDir = os.path.join(os.getcwd(),'..')\n",
    "codeDir = os.path.join(baseDir, 'code')\n",
    "dataDir = os.path.join(baseDir, 'data')\n",
    "stimDir = os.path.join(baseDir, 'BOLD5000_Stimuli_Shared')\n",
    "N_TUNING_CURVES =8"
   ]
  },
  {
   "cell_type": "code",
   "execution_count": 17,
   "metadata": {},
   "outputs": [],
   "source": [
    "def upper(df):\n",
    "    try:\n",
    "        assert(type(df)==np.ndarray)\n",
    "    except:\n",
    "        if type(df)==pd.DataFrame:\n",
    "            df = df.values\n",
    "        else:\n",
    "            raise TypeError('Must be np.ndarray or pd.DataFrame')\n",
    "    mask = np.triu_indices(df.shape[0], k=1)\n",
    "    return df[mask]\n",
    "\n",
    "def calculateSimilarity(N_TUNING_CURVES):\n",
    "    df_analog = pd.read_csv(os.path.join(dataDir, f'analogData_{N_TUNING_CURVES}_bins_Average.csv'),index_col=0)\n",
    "    df_ling = pd.read_csv(os.path.join(dataDir, f'lingDirectionsAverage.csv'),index_col=0)\n",
    "    \n",
    "    df_analog_similarity = pd.DataFrame(cosine_similarity(df_analog),index=df_analog.index,columns=df_analog.index)\n",
    "    df_ling_similarity = pd.DataFrame(cosine_similarity(df_ling),index=df_ling.index,columns=df_ling.index)\n",
    "\n",
    "    # Now lets measure the similarity Spearman similarity\n",
    "    result = stats.spearmanr(upper(df_analog_similarity), upper(df_ling_similarity))\n",
    "    print(f'Spearman Correlation for analog {N_TUNING_CURVES} tuning Curves and linguistic Data',stats.spearmanr(upper(df_analog_similarity), upper(df_ling_similarity)))\n",
    "    return result"
   ]
  },
  {
   "cell_type": "code",
   "execution_count": 18,
   "metadata": {},
   "outputs": [
    {
     "name": "stdout",
     "output_type": "stream",
     "text": [
      "Spearman Correlation for analog 8 tuning Curves and linguistic Data SpearmanrResult(correlation=0.4032688490853715, pvalue=0.0)\n",
      "Spearman Correlation for analog 16 tuning Curves and linguistic Data SpearmanrResult(correlation=0.4029349558480215, pvalue=0.0)\n",
      "Spearman Correlation for analog 37 tuning Curves and linguistic Data SpearmanrResult(correlation=0.3941178566863114, pvalue=0.0)\n"
     ]
    }
   ],
   "source": [
    "list_tuning_curves=[8,16,37]\n",
    "result =[]\n",
    "for i in list_tuning_curves:\n",
    "    result.append(calculateSimilarity(i))\n"
   ]
  }
 ],
 "metadata": {
  "interpreter": {
   "hash": "31f2aee4e71d21fbe5cf8b01ff0e069b9275f58929596ceb00d14d90e3e16cd6"
  },
  "kernelspec": {
   "display_name": "Python 3.10.6 64-bit",
   "language": "python",
   "name": "python3"
  },
  "language_info": {
   "codemirror_mode": {
    "name": "ipython",
    "version": 3
   },
   "file_extension": ".py",
   "mimetype": "text/x-python",
   "name": "python",
   "nbconvert_exporter": "python",
   "pygments_lexer": "ipython3",
   "version": "3.10.6"
  },
  "orig_nbformat": 4
 },
 "nbformat": 4,
 "nbformat_minor": 2
}
