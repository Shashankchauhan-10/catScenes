{
 "cells": [
  {
   "cell_type": "markdown",
   "id": "dcbf56e0-b936-4e61-a31d-a7ebe901fc45",
   "metadata": {},
   "source": [
    "# Imports and Data Loading"
   ]
  },
  {
   "cell_type": "code",
   "execution_count": 85,
   "id": "100b395e-644c-4eda-ad22-ccff16446bec",
   "metadata": {},
   "outputs": [],
   "source": [
    "# Imports\n",
    "import numpy as np\n",
    "import pandas as pd\n",
    "import os\n",
    "import glob\n",
    "\n",
    "# Set paths\n",
    "baseDir = os.path.join(os.getcwd(),'..')\n",
    "codeDir = os.path.join(baseDir, 'code')\n",
    "dataDir = os.path.join(baseDir, 'data')\n",
    "stimDir = os.path.join(baseDir, 'BOLD5000_Stimuli_Shared')\n",
    "\n",
    "N_TUNING_CURVES = 8\n",
    "\n",
    "qualtricsData = pd.read_csv(os.path.join(dataDir, \"qualtricsDataClean.csv\"),index_col='participant')\n",
    "masterData = pd.read_csv(os.path.join(dataDir, \"masterDataClean.csv\"),low_memory=False,index_col='participant')\n",
    "lingDirectionsAverage = pd.read_csv(os.path.join(dataDir, \"lingDirectionsAverage.csv\"),index_col='presentedImage')\n",
    "lingDirectionsParticipant = pd.read_csv(os.path.join(dataDir, \"lingDirectionsParticipant.csv\"),index_col=['presentedImage','participant'])\n",
    "analogDirectionsParticipant = pd.read_csv(os.path.join(dataDir, f'analogData_{N_TUNING_CURVES}_bins_Participant.csv'),index_col=['presentedImage','participant'])\n",
    "analogDirectionsAverage = pd.read_csv(os.path.join(dataDir, f'analogData_{N_TUNING_CURVES}_bins_Average.csv'),index_col='presentedImage')\n"
   ]
  },
  {
   "cell_type": "code",
   "execution_count": null,
   "id": "e5a38b83-6a9b-4a75-a2d2-aa9aaca2bbd3",
   "metadata": {},
   "outputs": [],
   "source": []
  },
  {
   "cell_type": "code",
   "execution_count": null,
   "id": "c61572e5-2c47-4ed6-88c5-8ac592872662",
   "metadata": {},
   "outputs": [],
   "source": []
  },
  {
   "cell_type": "code",
   "execution_count": null,
   "id": "b7c6cecb-cb98-4c52-87be-7a0a4b020770",
   "metadata": {},
   "outputs": [],
   "source": []
  },
  {
   "cell_type": "code",
   "execution_count": null,
   "id": "ed10bd4d-d5a9-4cc0-afb9-c0756fad8f3d",
   "metadata": {},
   "outputs": [],
   "source": []
  }
 ],
 "metadata": {
  "kernelspec": {
   "display_name": "UFRC Python-3.8",
   "language": "python",
   "name": "python3-3.8-ufrc"
  },
  "language_info": {
   "codemirror_mode": {
    "name": "ipython",
    "version": 3
   },
   "file_extension": ".py",
   "mimetype": "text/x-python",
   "name": "python",
   "nbconvert_exporter": "python",
   "pygments_lexer": "ipython3",
   "version": "3.8.5"
  }
 },
 "nbformat": 4,
 "nbformat_minor": 5
}
